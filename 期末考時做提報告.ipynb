{
  "nbformat": 4,
  "nbformat_minor": 0,
  "metadata": {
    "colab": {
      "provenance": [],
      "authorship_tag": "ABX9TyNys+T4oOlCghUFpkdxIHtR",
      "include_colab_link": true
    },
    "kernelspec": {
      "name": "python3",
      "display_name": "Python 3"
    },
    "language_info": {
      "name": "python"
    }
  },
  "cells": [
    {
      "cell_type": "markdown",
      "metadata": {
        "id": "view-in-github",
        "colab_type": "text"
      },
      "source": [
        "<a href=\"https://colab.research.google.com/github/msbbi/homework/blob/main/%E6%9C%9F%E6%9C%AB%E8%80%83%E6%99%82%E5%81%9A%E6%8F%90%E5%A0%B1%E5%91%8A.ipynb\" target=\"_parent\"><img src=\"https://colab.research.google.com/assets/colab-badge.svg\" alt=\"Open In Colab\"/></a>"
      ]
    },
    {
      "cell_type": "code",
      "source": [
        "import math\n",
        "\n",
        "class City:\n",
        "    def __init__(self, name, coordinates, accommodation_cost):\n",
        "        self.name = name\n",
        "        self.coordinates = coordinates\n",
        "        self.accommodation_cost = accommodation_cost\n",
        "\n",
        "def calculate_discounted_cost(city, previous_city):\n",
        "    if previous_city and (previous_city.name == \"C\" or previous_city.name == \"G\") and (city.name == \"A\" or city.name == \"C\"):\n",
        "        return city.accommodation_cost * 0.8\n",
        "    elif previous_city and (previous_city.name == \"A\" or previous_city.name == \"B\") and (city.name == \"D\" or city.name == \"E\"):\n",
        "        return city.accommodation_cost * 0.8\n",
        "    elif previous_city and (previous_city.name == \"B\" or previous_city.name == \"F\") and (city.name == \"E\" or city.name == \"F\"):\n",
        "        return city.accommodation_cost * 0.8\n",
        "    else:\n",
        "        return city.accommodation_cost\n",
        "\n",
        "def calculate_distance(city1, city2):\n",
        "    x1, y1 = city1.coordinates\n",
        "    x2, y2 = city2.coordinates\n",
        "    return math.sqrt((x2 - x1) ** 2 + (y2 - y1) ** 2)\n",
        "\n",
        "# 建立城市物件\n",
        "cities = [\n",
        "    City(\"A\", (0, 0), 2000),\n",
        "    City(\"B\", (0, 120), 2400),\n",
        "    City(\"C\", (30, 100), 2400),\n",
        "    City(\"D\", (80, 0), 1600),\n",
        "    City(\"E\", (45, 10), 1500),\n",
        "    City(\"F\", (90, 160), 2200),\n",
        "    City(\"G\", (120, 200), 1200)\n",
        "]\n",
        "\n",
        "# 選擇出發城市\n",
        "starting_city = cities[0]\n",
        "\n",
        "# 初始化已遊歷和未遊歷城市清單\n",
        "visited_cities = [starting_city]\n",
        "unvisited_cities = cities[1:]\n",
        "\n",
        "# 計算旅行花費及路線\n",
        "total_cost = 0\n",
        "current_city = starting_city\n",
        "while unvisited_cities:\n",
        "    min_distance = float(\"inf\")\n",
        "    nearest_city = None\n",
        "    for city in unvisited_cities:\n",
        "        distance = calculate_distance(current_city, city)\n",
        "        if distance < min_distance:\n",
        "            min_distance = distance\n",
        "            nearest_city = city\n",
        "\n",
        "    total_cost += min_distance * 100\n",
        "    total_cost += calculate_discounted_cost(nearest_city, current_city)\n",
        "    visited_cities.append(nearest_city)\n",
        "    unvisited_cities.remove(nearest_city)\n",
        "    current_city = nearest_city\n",
        "\n",
        "# 列印最佳路線及總花費\n",
        "route = [city.name for city in visited_cities]\n",
        "print(\"最佳路線：\", \" -> \".join(route))\n",
        "print(\"總花費：\", total_cost)\n"
      ],
      "metadata": {
        "id": "_cB8mK0z1Ogx",
        "outputId": "865c0725-b7ae-4eaa-bff8-59f179c36caf",
        "colab": {
          "base_uri": "https://localhost:8080/"
        }
      },
      "execution_count": null,
      "outputs": [
        {
          "output_type": "stream",
          "name": "stdout",
          "text": [
            "最佳路線： A -> E -> D -> C -> B -> F -> G\n",
            "總花費： 48444.57613804574\n"
          ]
        }
      ]
    }
  ]
}