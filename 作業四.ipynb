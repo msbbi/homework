{
  "nbformat": 4,
  "nbformat_minor": 0,
  "metadata": {
    "colab": {
      "provenance": [],
      "authorship_tag": "ABX9TyP6yM3eo/WDivmIVNuUSR+f",
      "include_colab_link": true
    },
    "kernelspec": {
      "name": "python3",
      "display_name": "Python 3"
    },
    "language_info": {
      "name": "python"
    }
  },
  "cells": [
    {
      "cell_type": "markdown",
      "metadata": {
        "id": "view-in-github",
        "colab_type": "text"
      },
      "source": [
        "<a href=\"https://colab.research.google.com/github/msbbi/homework/blob/main/%E4%BD%9C%E6%A5%AD%E5%9B%9B.ipynb\" target=\"_parent\"><img src=\"https://colab.research.google.com/assets/colab-badge.svg\" alt=\"Open In Colab\"/></a>"
      ]
    },
    {
      "cell_type": "code",
      "source": [
        "from google.colab import drive\n",
        "drive.mount('/content/drive')  #取得允許"
      ],
      "metadata": {
        "colab": {
          "base_uri": "https://localhost:8080/"
        },
        "id": "9W3tUo3O-4Ka",
        "outputId": "f9a3c6ed-77a9-44de-ad7c-82fa9485f8cb"
      },
      "execution_count": null,
      "outputs": [
        {
          "output_type": "stream",
          "name": "stdout",
          "text": [
            "Drive already mounted at /content/drive; to attempt to forcibly remount, call drive.mount(\"/content/drive\", force_remount=True).\n"
          ]
        }
      ]
    },
    {
      "cell_type": "code",
      "source": [
        "import os\n",
        "os.chdir('/content/drive/MyDrive/exam/')  #切換該資料夾目錄"
      ],
      "metadata": {
        "id": "3FiHSrlj--TE"
      },
      "execution_count": null,
      "outputs": []
    },
    {
      "cell_type": "code",
      "source": [
        "root_path=os.getcwd()\n",
        "file_path=root_path+'/population.csv'  #取得目錄路徑"
      ],
      "metadata": {
        "id": "0SNF7iCW_FHs"
      },
      "execution_count": null,
      "outputs": []
    },
    {
      "cell_type": "code",
      "source": [
        "f=open(file_path,\"r\")\n",
        "text=f.read()\n",
        "f.close"
      ],
      "metadata": {
        "colab": {
          "base_uri": "https://localhost:8080/"
        },
        "id": "GIogdCkZ_K2y",
        "outputId": "58da099c-dc0b-42d1-de5a-4403203b3b68"
      },
      "execution_count": null,
      "outputs": [
        {
          "output_type": "execute_result",
          "data": {
            "text/plain": [
              "<function TextIOWrapper.close()>"
            ]
          },
          "metadata": {},
          "execution_count": 21
        }
      ]
    },
    {
      "cell_type": "code",
      "source": [
        "print(text)"
      ],
      "metadata": {
        "colab": {
          "base_uri": "https://localhost:8080/"
        },
        "id": "yB_Tys3uBJ_r",
        "outputId": "918e6112-77dc-4a61-cb36-8273e9fe472d"
      },
      "execution_count": null,
      "outputs": [
        {
          "output_type": "stream",
          "name": "stdout",
          "text": [
            "year,pop\n",
            "1950,2.53\n",
            "1951,2.57\n",
            "1952,2.62\n",
            "1953,2.67\n",
            "1954,2.71\n",
            "1955,2.76\n",
            "1956,2.81\n",
            "1957,2.86\n",
            "1958,2.92\n",
            "1959,2.97\n",
            "1960,3.03\n",
            "1961,3.08\n",
            "1962,3.14\n",
            "1963,3.2\n",
            "1964,3.26\n",
            "1965,3.33\n",
            "1966,3.4\n",
            "1967,3.47\n",
            "1968,3.54\n",
            "1969,3.62\n",
            "1970,3.69\n",
            "1971,3.77\n",
            "1972,3.84\n",
            "1973,3.92\n",
            "1974,4\n",
            "1975,4.07\n",
            "1976,4.15\n",
            "1977,4.22\n",
            "1978,4.3\n",
            "1979,4.37\n",
            "1980,4.45\n",
            "1981,4.53\n",
            "1982,4.61\n",
            "1983,4.69\n",
            "1984,4.78\n",
            "1985,4.86\n",
            "1986,4.95\n",
            "1987,5.05\n",
            "1988,5.14\n",
            "1989,5.23\n",
            "1990,5.32\n",
            "1991,5.41\n",
            "1992,5.49\n",
            "1993,5.58\n",
            "1994,5.66\n",
            "1995,5.74\n",
            "1996,5.82\n",
            "1997,5.9\n",
            "1998,5.98\n",
            "1999,6.05\n",
            "2000,6.13\n",
            "2001,6.2\n",
            "2002,6.28\n",
            "2003,6.36\n",
            "2004,6.44\n",
            "2005,6.51\n",
            "2006,6.59\n",
            "2007,6.67\n",
            "2008,6.75\n",
            "2009,6.83\n",
            "2010,6.92\n",
            "2011,7\n",
            "2012,7.08\n",
            "2013,7.16\n",
            "2014,7.24\n",
            "2015,7.32\n",
            "2016,7.4\n",
            "2017,7.48\n",
            "2018,7.56\n",
            "2019,7.64\n",
            "2020,7.72\n",
            "2021,7.79\n",
            "2022,7.87\n",
            "2023,7.94\n",
            "2024,8.01\n",
            "2025,8.08\n",
            "2026,8.15\n",
            "2027,8.22\n",
            "2028,8.29\n",
            "2029,8.36\n",
            "2030,8.42\n",
            "2031,8.49\n",
            "2032,8.56\n",
            "2033,8.62\n",
            "2034,8.68\n",
            "2035,8.74\n",
            "2036,8.8\n",
            "2037,8.86\n",
            "2038,8.92\n",
            "2039,8.98\n",
            "2040,9.04\n",
            "2041,9.09\n",
            "2042,9.15\n",
            "2043,9.2\n",
            "2044,9.26\n",
            "2045,9.31\n",
            "2046,9.36\n",
            "2047,9.41\n",
            "2048,9.46\n",
            "2049,9.5\n",
            "2050,9.55\n",
            "2051,9.6\n",
            "2052,9.64\n",
            "2053,9.68\n",
            "2054,9.73\n",
            "2055,9.77\n",
            "2056,9.81\n",
            "2057,9.85\n",
            "2058,9.88\n",
            "2059,9.92\n",
            "2060,9.96\n",
            "2061,9.99\n",
            "2062,10.03\n",
            "2063,10.06\n",
            "2064,10.09\n",
            "2065,10.13\n",
            "2066,10.16\n",
            "2067,10.19\n",
            "2068,10.22\n",
            "2069,10.25\n",
            "2070,10.28\n",
            "2071,10.31\n",
            "2072,10.33\n",
            "2073,10.36\n",
            "2074,10.38\n",
            "2075,10.41\n",
            "2076,10.43\n",
            "2077,10.46\n",
            "2078,10.48\n",
            "2079,10.5\n",
            "2080,10.52\n",
            "2081,10.55\n",
            "2082,10.57\n",
            "2083,10.59\n",
            "2084,10.61\n",
            "2085,10.63\n",
            "2086,10.65\n",
            "2087,10.66\n",
            "2088,10.68\n",
            "2089,10.7\n",
            "2090,10.72\n",
            "2091,10.73\n",
            "2092,10.75\n",
            "2093,10.77\n",
            "2094,10.78\n",
            "2095,10.79\n",
            "2096,10.81\n",
            "2097,10.82\n",
            "2098,10.83\n",
            "2099,10.84\n",
            "2100,10.85\n",
            "\n"
          ]
        }
      ]
    },
    {
      "cell_type": "code",
      "source": [
        "!pip install openpyxl\n"
      ],
      "metadata": {
        "colab": {
          "base_uri": "https://localhost:8080/"
        },
        "id": "LzOkxtcDBQzP",
        "outputId": "783bcf5d-b824-49ca-eee0-73591e17d28c"
      },
      "execution_count": null,
      "outputs": [
        {
          "output_type": "stream",
          "name": "stdout",
          "text": [
            "Looking in indexes: https://pypi.org/simple, https://us-python.pkg.dev/colab-wheels/public/simple/\n",
            "Requirement already satisfied: openpyxl in /usr/local/lib/python3.10/dist-packages (3.0.10)\n",
            "Requirement already satisfied: et-xmlfile in /usr/local/lib/python3.10/dist-packages (from openpyxl) (1.1.0)\n"
          ]
        }
      ]
    },
    {
      "cell_type": "code",
      "source": [
        "import os\n",
        "os.chdir('/content/drive/MyDrive/exam')  # Colab 換路徑使用\n",
        "\n",
        "import csv\n",
        "csvfile = open('population.csv')     # 開啟 CSV 檔案\n",
        "raw_data = csv.reader(csvfile)     # 讀取 CSV 檔案\n",
        "data = list(raw_data)              # 轉換成二維串列\n",
        "print(data)\n",
        "'''\n",
        "[['name', 'id', 'color', 'price'],\n",
        " ['apple', '1', 'red', '10'],\n",
        " ['orange', '2', 'orange', '15'],\n",
        " ['grap', '3', 'purple', '20'],\n",
        " ['watermelon', '4', 'green', '30']]\n",
        "'''\n"
      ],
      "metadata": {
        "colab": {
          "base_uri": "https://localhost:8080/",
          "height": 90
        },
        "id": "IMvyVuJpCA9Z",
        "outputId": "801a06c6-72bc-4944-9368-946c894309ce"
      },
      "execution_count": null,
      "outputs": [
        {
          "output_type": "stream",
          "name": "stdout",
          "text": [
            "[['year', 'pop'], ['1950', '2.53'], ['1951', '2.57'], ['1952', '2.62'], ['1953', '2.67'], ['1954', '2.71'], ['1955', '2.76'], ['1956', '2.81'], ['1957', '2.86'], ['1958', '2.92'], ['1959', '2.97'], ['1960', '3.03'], ['1961', '3.08'], ['1962', '3.14'], ['1963', '3.2'], ['1964', '3.26'], ['1965', '3.33'], ['1966', '3.4'], ['1967', '3.47'], ['1968', '3.54'], ['1969', '3.62'], ['1970', '3.69'], ['1971', '3.77'], ['1972', '3.84'], ['1973', '3.92'], ['1974', '4'], ['1975', '4.07'], ['1976', '4.15'], ['1977', '4.22'], ['1978', '4.3'], ['1979', '4.37'], ['1980', '4.45'], ['1981', '4.53'], ['1982', '4.61'], ['1983', '4.69'], ['1984', '4.78'], ['1985', '4.86'], ['1986', '4.95'], ['1987', '5.05'], ['1988', '5.14'], ['1989', '5.23'], ['1990', '5.32'], ['1991', '5.41'], ['1992', '5.49'], ['1993', '5.58'], ['1994', '5.66'], ['1995', '5.74'], ['1996', '5.82'], ['1997', '5.9'], ['1998', '5.98'], ['1999', '6.05'], ['2000', '6.13'], ['2001', '6.2'], ['2002', '6.28'], ['2003', '6.36'], ['2004', '6.44'], ['2005', '6.51'], ['2006', '6.59'], ['2007', '6.67'], ['2008', '6.75'], ['2009', '6.83'], ['2010', '6.92'], ['2011', '7'], ['2012', '7.08'], ['2013', '7.16'], ['2014', '7.24'], ['2015', '7.32'], ['2016', '7.4'], ['2017', '7.48'], ['2018', '7.56'], ['2019', '7.64'], ['2020', '7.72'], ['2021', '7.79'], ['2022', '7.87'], ['2023', '7.94'], ['2024', '8.01'], ['2025', '8.08'], ['2026', '8.15'], ['2027', '8.22'], ['2028', '8.29'], ['2029', '8.36'], ['2030', '8.42'], ['2031', '8.49'], ['2032', '8.56'], ['2033', '8.62'], ['2034', '8.68'], ['2035', '8.74'], ['2036', '8.8'], ['2037', '8.86'], ['2038', '8.92'], ['2039', '8.98'], ['2040', '9.04'], ['2041', '9.09'], ['2042', '9.15'], ['2043', '9.2'], ['2044', '9.26'], ['2045', '9.31'], ['2046', '9.36'], ['2047', '9.41'], ['2048', '9.46'], ['2049', '9.5'], ['2050', '9.55'], ['2051', '9.6'], ['2052', '9.64'], ['2053', '9.68'], ['2054', '9.73'], ['2055', '9.77'], ['2056', '9.81'], ['2057', '9.85'], ['2058', '9.88'], ['2059', '9.92'], ['2060', '9.96'], ['2061', '9.99'], ['2062', '10.03'], ['2063', '10.06'], ['2064', '10.09'], ['2065', '10.13'], ['2066', '10.16'], ['2067', '10.19'], ['2068', '10.22'], ['2069', '10.25'], ['2070', '10.28'], ['2071', '10.31'], ['2072', '10.33'], ['2073', '10.36'], ['2074', '10.38'], ['2075', '10.41'], ['2076', '10.43'], ['2077', '10.46'], ['2078', '10.48'], ['2079', '10.5'], ['2080', '10.52'], ['2081', '10.55'], ['2082', '10.57'], ['2083', '10.59'], ['2084', '10.61'], ['2085', '10.63'], ['2086', '10.65'], ['2087', '10.66'], ['2088', '10.68'], ['2089', '10.7'], ['2090', '10.72'], ['2091', '10.73'], ['2092', '10.75'], ['2093', '10.77'], ['2094', '10.78'], ['2095', '10.79'], ['2096', '10.81'], ['2097', '10.82'], ['2098', '10.83'], ['2099', '10.84'], ['2100', '10.85']]\n"
          ]
        },
        {
          "output_type": "execute_result",
          "data": {
            "text/plain": [
              "\"\\n[['name', 'id', 'color', 'price'],\\n ['apple', '1', 'red', '10'],\\n ['orange', '2', 'orange', '15'],\\n ['grap', '3', 'purple', '20'],\\n ['watermelon', '4', 'green', '30']]\\n\""
            ],
            "application/vnd.google.colaboratory.intrinsic+json": {
              "type": "string"
            }
          },
          "metadata": {},
          "execution_count": 26
        }
      ]
    },
    {
      "cell_type": "code",
      "source": [
        "import openpyxl\n",
        "from openpyxl import Workbook\n",
        "from openpyxl.chart import LineChart, Reference\n",
        "\n",
        "def create_line_chart(filename, sheetname, x_data, y_data, chart_title, x_title, y_title):\n",
        "    # 創建新的Excel工作簿\n",
        "    wb = Workbook()\n",
        "    ws = wb.active\n",
        "    \n",
        "    # 寫入資料到工作表\n",
        "    ws.append([x_title, y_title])\n",
        "    for i in range(len(x_data)):\n",
        "        ws.append([x_data[i], y_data[i]])\n",
        "    \n",
        "    # 創建折線圖\n",
        "    chart = LineChart()\n",
        "    chart.title = chart_title\n",
        "    \n",
        "    data = Reference(ws, min_col=2, min_row=1, max_col=2, max_row=len(y_data)+1)\n",
        "    categories = Reference(ws, min_col=1, min_row=2, max_row=len(y_data)+1)\n",
        "    \n",
        "    chart.add_data(data, titles_from_data=True)\n",
        "    chart.set_categories(categories)\n",
        "    \n",
        "    # 設定圖表大小和位置\n",
        "    chart.width = 12\n",
        "    chart.height = 6\n",
        "    chart.x = 1\n",
        "    chart.y = 3\n",
        "    \n",
        "    # 將圖表插入工作表\n",
        "    ws.add_chart(chart)\n",
        "    \n",
        "    # 儲存Excel檔案\n",
        "    wb.save(filename)\n",
        "\n",
        "# 測試程式碼\n",
        "x_data = [1, 2, 3, 4, 5]\n",
        "y_data = [10, 20, 15, 25, 30]\n",
        "\n",
        "create_line_chart('chart.xlsx', 'Sheet1', x_data, y_data, '折線圖', 'X軸標籤', 'Y軸標籤')\n"
      ],
      "metadata": {
        "id": "IKVi7IYRGkkq"
      },
      "execution_count": null,
      "outputs": []
    },
    {
      "cell_type": "code",
      "source": [
        "pip install openpyxl\n"
      ],
      "metadata": {
        "colab": {
          "base_uri": "https://localhost:8080/"
        },
        "id": "qUYnZpyUG6EI",
        "outputId": "11d0d926-3129-4f6d-debb-579ea6577054"
      },
      "execution_count": null,
      "outputs": [
        {
          "output_type": "stream",
          "name": "stdout",
          "text": [
            "Looking in indexes: https://pypi.org/simple, https://us-python.pkg.dev/colab-wheels/public/simple/\n",
            "Requirement already satisfied: openpyxl in /usr/local/lib/python3.10/dist-packages (3.0.10)\n",
            "Requirement already satisfied: et-xmlfile in /usr/local/lib/python3.10/dist-packages (from openpyxl) (1.1.0)\n"
          ]
        }
      ]
    },
    {
      "cell_type": "code",
      "source": [
        "import matplotlib.pyplot as plt\n",
        "\n",
        "# 數據\n",
        "data = [\n",
        "    (1950, 2.53),\n",
        "    (1951, 2.57),\n",
        "    (1952, 2.62),\n",
        "    (1953, 2.67),\n",
        "    (1954, 2.71),\n",
        "    # 其他數據...\n",
        "    (2099, 10.84),\n",
        "    (2100, 10.85)\n",
        "]\n",
        "\n",
        "# 提取x和y數據\n",
        "x = [d[0] for d in data]\n",
        "y = [d[1] for d in data]\n",
        "\n",
        "# 繪製折線圖\n",
        "plt.plot(x, y, marker='o')\n",
        "\n",
        "# 添加標籤和標題\n",
        "plt.xlabel('Population')\n",
        "plt.ylabel('Months in a Year')\n",
        "plt.title('Population vs. Months in a Year')\n",
        "\n",
        "# 顯示圖表\n",
        "plt.show()\n"
      ],
      "metadata": {
        "colab": {
          "base_uri": "https://localhost:8080/",
          "height": 472
        },
        "id": "ByYgQaue0zRc",
        "outputId": "751fd1ce-c7db-494d-bfbc-a1ec23ee1380"
      },
      "execution_count": 2,
      "outputs": [
        {
          "output_type": "display_data",
          "data": {
            "text/plain": [
              "<Figure size 640x480 with 1 Axes>"
            ],
            "image/png": "[encoded data removed]"
          },
          "metadata": {}
        }
      ]
    },
    {
      "cell_type": "code",
      "source": [
        "import matplotlib.pyplot as plt\n",
        "\n",
        "# 數據\n",
        "data = [\n",
        "    (1950, 2.53),\n",
        "    (1951, 2.57),\n",
        "    (1952, 2.62),\n",
        "    (1953, 2.67),\n",
        "    (1954, 2.71),\n",
        "    # 其他數據...\n",
        "    (2099, 10.84),\n",
        "    (2100, 10.85)\n",
        "]\n",
        "\n",
        "# 提取人數數據\n",
        "population = [d[1] for d in data]\n",
        "\n",
        "# 提取年份數據（作為標籤）\n",
        "years = [str(d[0]) for d in data]\n",
        "\n",
        "# 繪製圓餅圖\n",
        "plt.pie(population, labels=years, autopct='%1.1f%%')\n",
        "\n",
        "# 添加標題\n",
        "plt.title('Population Distribution by Year')\n",
        "\n",
        "# 顯示圖表\n",
        "plt.show()\n"
      ],
      "metadata": {
        "colab": {
          "base_uri": "https://localhost:8080/",
          "height": 428
        },
        "id": "WN_zegIC1iue",
        "outputId": "695f2aba-0d5c-4e67-904a-37b9a13b010c"
      },
      "execution_count": 3,
      "outputs": [
        {
          "output_type": "display_data",
          "data": {
            "text/plain": [
              "<Figure size 640x480 with 1 Axes>"
            ],
            "image/png": "[encoded data removed]"
          },
          "metadata": {}
        }
      ]
    }
  ]
}